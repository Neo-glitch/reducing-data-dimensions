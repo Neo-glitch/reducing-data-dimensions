{
 "cells": [
  {
   "cell_type": "markdown",
   "metadata": {},
   "source": [
    "**Aim is to select best features that we will use to train our model**"
   ]
  },
  {
   "cell_type": "code",
   "execution_count": 2,
   "metadata": {},
   "outputs": [],
   "source": [
    "# first important stuff\n",
    "import pandas as pd\n",
    "import pylab\n",
    "import matplotlib.pyplot as plt\n",
    "import statsmodels.api as sm  # stats model to get stats significant features\n",
    "from sklearn.linear_model import LinearRegression\n",
    "from sklearn.model_selection import train_test_split\n",
    "from sklearn.metrics import r2_score"
   ]
  },
  {
   "cell_type": "code",
   "execution_count": 3,
   "metadata": {},
   "outputs": [
    {
     "data": {
      "text/html": [
       "<div>\n",
       "<style scoped>\n",
       "    .dataframe tbody tr th:only-of-type {\n",
       "        vertical-align: middle;\n",
       "    }\n",
       "\n",
       "    .dataframe tbody tr th {\n",
       "        vertical-align: top;\n",
       "    }\n",
       "\n",
       "    .dataframe thead th {\n",
       "        text-align: right;\n",
       "    }\n",
       "</style>\n",
       "<table border=\"1\" class=\"dataframe\">\n",
       "  <thead>\n",
       "    <tr style=\"text-align: right;\">\n",
       "      <th></th>\n",
       "      <th>price</th>\n",
       "      <th>bedrooms</th>\n",
       "      <th>bathrooms</th>\n",
       "      <th>sqft_living</th>\n",
       "      <th>sqft_lot</th>\n",
       "      <th>floors</th>\n",
       "      <th>waterfront</th>\n",
       "      <th>view</th>\n",
       "      <th>condition</th>\n",
       "      <th>grade</th>\n",
       "      <th>sqft_above</th>\n",
       "      <th>sqft_basement</th>\n",
       "      <th>lat</th>\n",
       "      <th>long</th>\n",
       "      <th>sqft_living15</th>\n",
       "      <th>sqft_lot15</th>\n",
       "      <th>age</th>\n",
       "      <th>renovated</th>\n",
       "    </tr>\n",
       "  </thead>\n",
       "  <tbody>\n",
       "    <tr>\n",
       "      <th>0</th>\n",
       "      <td>221900.0</td>\n",
       "      <td>3.0</td>\n",
       "      <td>1.00</td>\n",
       "      <td>1180.0</td>\n",
       "      <td>5650.0</td>\n",
       "      <td>1.0</td>\n",
       "      <td>0.0</td>\n",
       "      <td>0.0</td>\n",
       "      <td>3.0</td>\n",
       "      <td>7.0</td>\n",
       "      <td>1180.0</td>\n",
       "      <td>0.0</td>\n",
       "      <td>47.5112</td>\n",
       "      <td>-122.257</td>\n",
       "      <td>1340.0</td>\n",
       "      <td>5650.0</td>\n",
       "      <td>65.0</td>\n",
       "      <td>0.0</td>\n",
       "    </tr>\n",
       "    <tr>\n",
       "      <th>1</th>\n",
       "      <td>538000.0</td>\n",
       "      <td>3.0</td>\n",
       "      <td>2.25</td>\n",
       "      <td>2570.0</td>\n",
       "      <td>7242.0</td>\n",
       "      <td>2.0</td>\n",
       "      <td>0.0</td>\n",
       "      <td>0.0</td>\n",
       "      <td>3.0</td>\n",
       "      <td>7.0</td>\n",
       "      <td>2170.0</td>\n",
       "      <td>400.0</td>\n",
       "      <td>47.7210</td>\n",
       "      <td>-122.319</td>\n",
       "      <td>1690.0</td>\n",
       "      <td>7639.0</td>\n",
       "      <td>69.0</td>\n",
       "      <td>1.0</td>\n",
       "    </tr>\n",
       "    <tr>\n",
       "      <th>2</th>\n",
       "      <td>180000.0</td>\n",
       "      <td>2.0</td>\n",
       "      <td>1.00</td>\n",
       "      <td>770.0</td>\n",
       "      <td>10000.0</td>\n",
       "      <td>1.0</td>\n",
       "      <td>0.0</td>\n",
       "      <td>0.0</td>\n",
       "      <td>3.0</td>\n",
       "      <td>6.0</td>\n",
       "      <td>770.0</td>\n",
       "      <td>0.0</td>\n",
       "      <td>47.7379</td>\n",
       "      <td>-122.233</td>\n",
       "      <td>2720.0</td>\n",
       "      <td>8062.0</td>\n",
       "      <td>87.0</td>\n",
       "      <td>0.0</td>\n",
       "    </tr>\n",
       "    <tr>\n",
       "      <th>3</th>\n",
       "      <td>604000.0</td>\n",
       "      <td>4.0</td>\n",
       "      <td>3.00</td>\n",
       "      <td>1960.0</td>\n",
       "      <td>5000.0</td>\n",
       "      <td>1.0</td>\n",
       "      <td>0.0</td>\n",
       "      <td>0.0</td>\n",
       "      <td>5.0</td>\n",
       "      <td>7.0</td>\n",
       "      <td>1050.0</td>\n",
       "      <td>910.0</td>\n",
       "      <td>47.5208</td>\n",
       "      <td>-122.393</td>\n",
       "      <td>1360.0</td>\n",
       "      <td>5000.0</td>\n",
       "      <td>55.0</td>\n",
       "      <td>0.0</td>\n",
       "    </tr>\n",
       "    <tr>\n",
       "      <th>4</th>\n",
       "      <td>510000.0</td>\n",
       "      <td>3.0</td>\n",
       "      <td>2.00</td>\n",
       "      <td>1680.0</td>\n",
       "      <td>8080.0</td>\n",
       "      <td>1.0</td>\n",
       "      <td>0.0</td>\n",
       "      <td>0.0</td>\n",
       "      <td>3.0</td>\n",
       "      <td>8.0</td>\n",
       "      <td>1680.0</td>\n",
       "      <td>0.0</td>\n",
       "      <td>47.6168</td>\n",
       "      <td>-122.045</td>\n",
       "      <td>1800.0</td>\n",
       "      <td>7503.0</td>\n",
       "      <td>33.0</td>\n",
       "      <td>0.0</td>\n",
       "    </tr>\n",
       "  </tbody>\n",
       "</table>\n",
       "</div>"
      ],
      "text/plain": [
       "      price  bedrooms  bathrooms  sqft_living  sqft_lot  floors  waterfront  \\\n",
       "0  221900.0       3.0       1.00       1180.0    5650.0     1.0         0.0   \n",
       "1  538000.0       3.0       2.25       2570.0    7242.0     2.0         0.0   \n",
       "2  180000.0       2.0       1.00        770.0   10000.0     1.0         0.0   \n",
       "3  604000.0       4.0       3.00       1960.0    5000.0     1.0         0.0   \n",
       "4  510000.0       3.0       2.00       1680.0    8080.0     1.0         0.0   \n",
       "\n",
       "   view  condition  grade  sqft_above  sqft_basement      lat     long  \\\n",
       "0   0.0        3.0    7.0      1180.0            0.0  47.5112 -122.257   \n",
       "1   0.0        3.0    7.0      2170.0          400.0  47.7210 -122.319   \n",
       "2   0.0        3.0    6.0       770.0            0.0  47.7379 -122.233   \n",
       "3   0.0        5.0    7.0      1050.0          910.0  47.5208 -122.393   \n",
       "4   0.0        3.0    8.0      1680.0            0.0  47.6168 -122.045   \n",
       "\n",
       "   sqft_living15  sqft_lot15   age  renovated  \n",
       "0         1340.0      5650.0  65.0        0.0  \n",
       "1         1690.0      7639.0  69.0        1.0  \n",
       "2         2720.0      8062.0  87.0        0.0  \n",
       "3         1360.0      5000.0  55.0        0.0  \n",
       "4         1800.0      7503.0  33.0        0.0  "
      ]
     },
     "execution_count": 3,
     "metadata": {},
     "output_type": "execute_result"
    }
   ],
   "source": [
    "housesales_df = pd.read_csv(\"./datasets/housesale_mine.csv\", dtype = \"float\")\n",
    "\n",
    "housesales_df.head()"
   ]
  },
  {
   "cell_type": "code",
   "execution_count": 4,
   "metadata": {},
   "outputs": [],
   "source": [
    "X = housesales_df.drop(\"price\", axis = 1)\n",
    "Y = housesales_df.price"
   ]
  },
  {
   "cell_type": "code",
   "execution_count": 5,
   "metadata": {},
   "outputs": [],
   "source": [
    "# f_reg is used to test each X var with Y to see how they affect Y and selectKBest is used to selc K best features\n",
    "from sklearn.feature_selection import f_regression, SelectKBest\n",
    "\n",
    "select_features = SelectKBest(f_regression, k = 3)\n",
    "\n",
    "X_new = select_features.fit_transform(X, Y)  # new X data with just the three top features"
   ]
  },
  {
   "cell_type": "code",
   "execution_count": 6,
   "metadata": {},
   "outputs": [
    {
     "data": {
      "text/html": [
       "<div>\n",
       "<style scoped>\n",
       "    .dataframe tbody tr th:only-of-type {\n",
       "        vertical-align: middle;\n",
       "    }\n",
       "\n",
       "    .dataframe tbody tr th {\n",
       "        vertical-align: top;\n",
       "    }\n",
       "\n",
       "    .dataframe thead th {\n",
       "        text-align: right;\n",
       "    }\n",
       "</style>\n",
       "<table border=\"1\" class=\"dataframe\">\n",
       "  <thead>\n",
       "    <tr style=\"text-align: right;\">\n",
       "      <th></th>\n",
       "      <th>0</th>\n",
       "      <th>1</th>\n",
       "      <th>2</th>\n",
       "    </tr>\n",
       "  </thead>\n",
       "  <tbody>\n",
       "    <tr>\n",
       "      <th>0</th>\n",
       "      <td>1180.0</td>\n",
       "      <td>7.0</td>\n",
       "      <td>1180.0</td>\n",
       "    </tr>\n",
       "    <tr>\n",
       "      <th>1</th>\n",
       "      <td>2570.0</td>\n",
       "      <td>7.0</td>\n",
       "      <td>2170.0</td>\n",
       "    </tr>\n",
       "    <tr>\n",
       "      <th>2</th>\n",
       "      <td>770.0</td>\n",
       "      <td>6.0</td>\n",
       "      <td>770.0</td>\n",
       "    </tr>\n",
       "    <tr>\n",
       "      <th>3</th>\n",
       "      <td>1960.0</td>\n",
       "      <td>7.0</td>\n",
       "      <td>1050.0</td>\n",
       "    </tr>\n",
       "    <tr>\n",
       "      <th>4</th>\n",
       "      <td>1680.0</td>\n",
       "      <td>8.0</td>\n",
       "      <td>1680.0</td>\n",
       "    </tr>\n",
       "  </tbody>\n",
       "</table>\n",
       "</div>"
      ],
      "text/plain": [
       "        0    1       2\n",
       "0  1180.0  7.0  1180.0\n",
       "1  2570.0  7.0  2170.0\n",
       "2   770.0  6.0   770.0\n",
       "3  1960.0  7.0  1050.0\n",
       "4  1680.0  8.0  1680.0"
      ]
     },
     "execution_count": 6,
     "metadata": {},
     "output_type": "execute_result"
    }
   ],
   "source": [
    "X_new = pd.DataFrame(X_new)\n",
    "\n",
    "X_new.head()"
   ]
  },
  {
   "cell_type": "code",
   "execution_count": 7,
   "metadata": {},
   "outputs": [
    {
     "data": {
      "text/plain": [
       "['sqft_living', 'grade', 'sqft_above']"
      ]
     },
     "execution_count": 7,
     "metadata": {},
     "output_type": "execute_result"
    }
   ],
   "source": [
    "# gets the name of this features\n",
    "selected_features =  []\n",
    "for i in range(len(X_new.columns)):  # loops through new transformwed data\n",
    "    for j in range(len(X.columns)):  # lopps through normal X\n",
    "        if(X_new.iloc[:, i].equals(X.iloc[:,j])):  # if values in col in X_new match values 0f col in X append\n",
    "            selected_features.append(X.columns[j])\n",
    "            \n",
    "selected_features"
   ]
  },
  {
   "cell_type": "code",
   "execution_count": 8,
   "metadata": {},
   "outputs": [
    {
     "data": {
      "text/plain": [
       "{'age',\n",
       " 'bathrooms',\n",
       " 'bedrooms',\n",
       " 'condition',\n",
       " 'floors',\n",
       " 'lat',\n",
       " 'long',\n",
       " 'renovated',\n",
       " 'sqft_basement',\n",
       " 'sqft_living15',\n",
       " 'sqft_lot',\n",
       " 'sqft_lot15',\n",
       " 'view',\n",
       " 'waterfront'}"
      ]
     },
     "execution_count": 8,
     "metadata": {},
     "output_type": "execute_result"
    }
   ],
   "source": [
    "dropped_features = set(list(X)) - set(selected_features)\n",
    "\n",
    "dropped_features"
   ]
  },
  {
   "cell_type": "code",
   "execution_count": 9,
   "metadata": {},
   "outputs": [
    {
     "name": "stdout",
     "output_type": "stream",
     "text": [
      "                                 OLS Regression Results                                \n",
      "=======================================================================================\n",
      "Dep. Variable:                  price   R-squared (uncentered):                   0.842\n",
      "Model:                            OLS   Adj. R-squared (uncentered):              0.842\n",
      "Method:                 Least Squares   F-statistic:                          3.064e+04\n",
      "Date:                Fri, 11 Dec 2020   Prob (F-statistic):                        0.00\n",
      "Time:                        13:44:14   Log-Likelihood:                     -2.3984e+05\n",
      "No. Observations:               17277   AIC:                                  4.797e+05\n",
      "Df Residuals:                   17274   BIC:                                  4.797e+05\n",
      "Df Model:                           3                                                  \n",
      "Covariance Type:            nonrobust                                                  \n",
      "==============================================================================\n",
      "                 coef    std err          t      P>|t|      [0.025      0.975]\n",
      "------------------------------------------------------------------------------\n",
      "0            271.7709      4.606     59.010      0.000     262.744     280.798\n",
      "1           4787.9837    842.755      5.681      0.000    3136.098    6439.870\n",
      "2            -28.8964      5.023     -5.753      0.000     -38.742     -19.051\n",
      "==============================================================================\n",
      "Omnibus:                    13648.541   Durbin-Watson:                   1.988\n",
      "Prob(Omnibus):                  0.000   Jarque-Bera (JB):           762032.571\n",
      "Skew:                           3.355   Prob(JB):                         0.00\n",
      "Kurtosis:                      34.836   Cond. No.                     1.28e+03\n",
      "==============================================================================\n",
      "\n",
      "Warnings:\n",
      "[1] Standard Errors assume that the covariance matrix of the errors is correctly specified.\n",
      "[2] The condition number is large, 1.28e+03. This might indicate that there are\n",
      "strong multicollinearity or other numerical problems.\n"
     ]
    }
   ],
   "source": [
    "x_train, x_test, y_train, y_test = train_test_split(X_new, Y, test_size = 0.2)\n",
    "\n",
    "model = sm.OLS(y_train, x_train)  # bias(constant) ain't added to x_train here(model might overfit since not regularized)\n",
    "result = model.fit()\n",
    "\n",
    "print(result.summary())"
   ]
  },
  {
   "cell_type": "markdown",
   "metadata": {},
   "source": [
    "**Just to ensure that the model trained uses truly 3 features via comparision**"
   ]
  },
  {
   "cell_type": "code",
   "execution_count": 10,
   "metadata": {},
   "outputs": [
    {
     "data": {
      "text/plain": [
       "['bedrooms',\n",
       " 'bathrooms',\n",
       " 'sqft_living',\n",
       " 'sqft_lot',\n",
       " 'floors',\n",
       " 'waterfront',\n",
       " 'view',\n",
       " 'condition',\n",
       " 'grade',\n",
       " 'sqft_above',\n",
       " 'sqft_basement',\n",
       " 'lat',\n",
       " 'long',\n",
       " 'sqft_living15',\n",
       " 'sqft_lot15',\n",
       " 'age',\n",
       " 'renovated']"
      ]
     },
     "execution_count": 10,
     "metadata": {},
     "output_type": "execute_result"
    }
   ],
   "source": [
    "FEATURES = list(housesales_df.columns[1:18])\n",
    "\n",
    "FEATURES"
   ]
  },
  {
   "cell_type": "code",
   "execution_count": 11,
   "metadata": {},
   "outputs": [],
   "source": [
    "# helper fn to build diff lin reg models usni using diff num of features\n",
    "# and ret result dict\n",
    "def build_model(regression_fn, target, features,\n",
    "               dataset, preprocess_fn, *hyperparameters):\n",
    "    \n",
    "    X= dataset[features]\n",
    "    Y = dataset[target]\n",
    "    \n",
    "    X= preprocess_fn(X, Y, *hyperparameters)  # extracts kmost sign features\n",
    "    \n",
    "    x_train, x_test, y_train, y_test = train_test_split(X, Y, test_size = 0.2)\n",
    "    model = regression_fn(x_train, y_train)\n",
    "    \n",
    "    y_pred = model.predict(x_test)\n",
    "    return {\n",
    "        \"x_train\": x_train,\n",
    "        \"x_test\": x_test,\n",
    "        \"y_train\": y_train,\n",
    "        \"y_test\": y_test,\n",
    "        \"y_pred\": y_pred,\n",
    "        \"model\": model\n",
    "    }"
   ]
  },
  {
   "cell_type": "code",
   "execution_count": 12,
   "metadata": {},
   "outputs": [],
   "source": [
    "# helper fun to compare results taking input as a result dict\n",
    "def compare_results(result_dict):\n",
    "    \n",
    "    for key in result_dict:\n",
    "        print('Test : ', key)\n",
    "        print('R-Squared', result_dict[key]['rsquared'])\n",
    "        print('Adjusted R-Squared', result_dict[key]['adj_rsquared'])\n",
    "        print()\n",
    "        \n",
    "    n_components = list(range(1, 18))\n",
    "    reg_score = [result_dict[key]['adj_rsquared'] for key in result_dict]\n",
    "\n",
    "    plt.figure(figsize = (8, 8))\n",
    "    plt.plot(n_components, reg_score)\n",
    "\n",
    "    pylab.ylim([0,1])\n",
    "    \n",
    "    plt.xlabel('n components')\n",
    "    plt.ylabel('adj_rsquared');"
   ]
  },
  {
   "cell_type": "code",
   "execution_count": 13,
   "metadata": {},
   "outputs": [],
   "source": [
    "# helper fun calls compare_result fn\n",
    "# input is return dict from build_model fn\n",
    "def get_model_scores(model_params):\n",
    "    result_dict = {}\n",
    "    for key in model_params:  # iters through each model and calc r2 and adj r2 score\n",
    "        result_dict[key] = {\n",
    "            \"rsquared\": model_params[key][\"model\"].rsquared,\n",
    "            \"adj_rsquared\": model_params[key][\"model\"].rsquared_adj\n",
    "        }\n",
    "    compare_results(result_dict)"
   ]
  },
  {
   "cell_type": "code",
   "execution_count": 14,
   "metadata": {},
   "outputs": [],
   "source": [
    "# helper fn to fit the model and data\n",
    "def ols_reg(x_train, y_train):\n",
    "    ols = sm.OLS(y_train, x_train)\n",
    "    model = ols.fit()\n",
    "    return model"
   ]
  },
  {
   "cell_type": "code",
   "execution_count": 15,
   "metadata": {},
   "outputs": [],
   "source": [
    "from sklearn.feature_selection import f_regression, SelectKBest\n",
    "\n",
    "# helper fn to apply feature selction\n",
    "def apply_f_regression(x, y, k, add_constant = False):\n",
    "    select_features = SelectKBest(f_regression, k = k)\n",
    "    X_new = select_features.fit_transform(x, y)\n",
    "    \n",
    "    if add_constant is True:\n",
    "        X_new = sm.add_constant(X_new)\n",
    "        \n",
    "    return pd.DataFrame(X_new)"
   ]
  },
  {
   "cell_type": "code",
   "execution_count": 16,
   "metadata": {},
   "outputs": [],
   "source": [
    "# use the helper funs\n",
    "model_params = {}\n",
    "\n",
    "for i in range(1, 18): # since num of features in our dataset is 17\n",
    "    model_params[\"f_regression - k: \" + str(i)] = build_model(\n",
    "        ols_reg, \"price\", FEATURES, housesales_df, apply_f_regression, i, \n",
    "        True  # means we wanna add a constan to OLS\n",
    "    )"
   ]
  },
  {
   "cell_type": "code",
   "execution_count": 17,
   "metadata": {},
   "outputs": [
    {
     "name": "stdout",
     "output_type": "stream",
     "text": [
      "Test :  f_regression - k: 1\n",
      "R-Squared 0.4947673190109706\n",
      "Adjusted R-Squared 0.4947380725460797\n",
      "\n",
      "Test :  f_regression - k: 2\n",
      "R-Squared 0.5318034427545961\n",
      "Adjusted R-Squared 0.5317492345159432\n",
      "\n",
      "Test :  f_regression - k: 3\n",
      "R-Squared 0.5445949725843002\n",
      "Adjusted R-Squared 0.5445158771705187\n",
      "\n",
      "Test :  f_regression - k: 4\n",
      "R-Squared 0.5389225473711725\n",
      "Adjusted R-Squared 0.5388157670440237\n",
      "\n",
      "Test :  f_regression - k: 5\n",
      "R-Squared 0.5488907923456491\n",
      "Adjusted R-Squared 0.5487601950415977\n",
      "\n",
      "Test :  f_regression - k: 6\n",
      "R-Squared 0.5711512460807735\n",
      "Adjusted R-Squared 0.5710022540411954\n",
      "\n",
      "Test :  f_regression - k: 7\n",
      "R-Squared 0.5798638663703897\n",
      "Adjusted R-Squared 0.5797179012979069\n",
      "\n",
      "Test :  f_regression - k: 8\n",
      "R-Squared 0.5852666754997001\n",
      "Adjusted R-Squared 0.5850985630860397\n",
      "\n",
      "Test :  f_regression - k: 9\n",
      "R-Squared 0.6377800838599132\n",
      "Adjusted R-Squared 0.6376122729189171\n",
      "\n",
      "Test :  f_regression - k: 10\n",
      "R-Squared 0.6578419184508958\n",
      "Adjusted R-Squared 0.6576635769478008\n",
      "\n",
      "Test :  f_regression - k: 11\n",
      "R-Squared 0.6574488212557403\n",
      "Adjusted R-Squared 0.6572504248820903\n",
      "\n",
      "Test :  f_regression - k: 12\n",
      "R-Squared 0.6672874525461829\n",
      "Adjusted R-Squared 0.6670754723537711\n",
      "\n",
      "Test :  f_regression - k: 13\n",
      "R-Squared 0.6656423107697406\n",
      "Adjusted R-Squared 0.6654099027373748\n",
      "\n",
      "Test :  f_regression - k: 14\n",
      "R-Squared 0.6658085850253825\n",
      "Adjusted R-Squared 0.6655569202860747\n",
      "\n",
      "Test :  f_regression - k: 15\n",
      "R-Squared 0.688014219118953\n",
      "Adjusted R-Squared 0.6877611892885547\n",
      "\n",
      "Test :  f_regression - k: 16\n",
      "R-Squared 0.6937897315623871\n",
      "Adjusted R-Squared 0.6935236314507733\n",
      "\n",
      "Test :  f_regression - k: 17\n",
      "R-Squared 0.6934126975647223\n",
      "Adjusted R-Squared 0.6931284914906224\n",
      "\n"
     ]
    },
    {
     "data": {
      "image/png": "[encoded data removed]",
      "text/plain": [
       "<Figure size 576x576 with 1 Axes>"
      ]
     },
     "metadata": {
      "needs_background": "light"
     },
     "output_type": "display_data"
    }
   ],
   "source": [
    "get_model_scores(model_params)"
   ]
  },
  {
   "cell_type": "markdown",
   "metadata": {},
   "source": [
    "**Trainig lin reg model with 9 features**"
   ]
  },
  {
   "cell_type": "code",
   "execution_count": 18,
   "metadata": {},
   "outputs": [],
   "source": [
    "def linear_reg(x_train, y_train):\n",
    "    \n",
    "    model = LinearRegression().fit(x_train, y_train)\n",
    "    \n",
    "    return model"
   ]
  },
  {
   "cell_type": "code",
   "execution_count": 20,
   "metadata": {},
   "outputs": [
    {
     "name": "stdout",
     "output_type": "stream",
     "text": [
      "Training score:  0.6400128259087599\n",
      "Testing score:  0.6397124564264192\n"
     ]
    }
   ],
   "source": [
    "sklearn_model = {}\n",
    "\n",
    "sklearn_model['f_regression'] = build_model(linear_reg,\n",
    "                                          'price',\n",
    "                                           FEATURES,\n",
    "                                           housesales_df,\n",
    "                                           apply_f_regression,\n",
    "                                           9)\n",
    "\n",
    "model   = sklearn_model['f_regression']['model']\n",
    "x_train = sklearn_model['f_regression']['x_train']\n",
    "x_test  = sklearn_model['f_regression']['x_test']\n",
    "y_train = sklearn_model['f_regression']['y_train']\n",
    "y_test  = sklearn_model['f_regression']['y_test']\n",
    "y_pred  = sklearn_model['f_regression']['y_pred']\n",
    "\n",
    "print('Training score: ', model.score(x_train, y_train))\n",
    "print('Testing score: ', r2_score(y_test, y_pred))"
   ]
  },
  {
   "cell_type": "markdown",
   "metadata": {},
   "source": [
    "**Feature Selection using Mutual Info reg**"
   ]
  },
  {
   "cell_type": "code",
   "execution_count": 21,
   "metadata": {},
   "outputs": [],
   "source": [
    "# checks for dependency btw 2 var X and Y and if 0 = means both are completely independent\n",
    "from sklearn.feature_selection import mutual_info_regression\n",
    "\n",
    "def apply_mutual_info_regression(x, y, k, add_constant = False):\n",
    "    select_features = SelectKBest(mutual_info_regression, k = k)  # selects top k features\n",
    "    x_new = select_features.fit_transform(x, y)\n",
    "    \n",
    "    if add_constant:\n",
    "        x_new = sm.add_constant(x_new)\n",
    "        \n",
    "    return pd.DataFrame(x_new)"
   ]
  },
  {
   "cell_type": "code",
   "execution_count": 22,
   "metadata": {},
   "outputs": [],
   "source": [
    "# use the helper funs\n",
    "model_params = {}\n",
    "\n",
    "for i in range(1, 18): # since num of features in our dataset is 17\n",
    "    model_params[\"mutual info reg - k: \" + str(i)] = build_model(\n",
    "        ols_reg, \"price\", FEATURES, housesales_df, apply_mutual_info_regression, i, \n",
    "        True  # means we wanna add a constan to OLS\n",
    "    )"
   ]
  },
  {
   "cell_type": "code",
   "execution_count": 23,
   "metadata": {},
   "outputs": [
    {
     "name": "stdout",
     "output_type": "stream",
     "text": [
      "Test :  mutual info reg - k: 1\n",
      "R-Squared 0.4905588451531435\n",
      "Adjusted R-Squared 0.49052935507182094\n",
      "\n",
      "Test :  mutual info reg - k: 2\n",
      "R-Squared 0.537815820384929\n",
      "Adjusted R-Squared 0.5377623082650246\n",
      "\n",
      "Test :  mutual info reg - k: 3\n",
      "R-Squared 0.5937234010178658\n",
      "Adjusted R-Squared 0.5936528383016644\n",
      "\n",
      "Test :  mutual info reg - k: 4\n",
      "R-Squared 0.598140308587738\n",
      "Adjusted R-Squared 0.5980472424248356\n",
      "\n",
      "Test :  mutual info reg - k: 5\n",
      "R-Squared 0.6048633136307116\n",
      "Adjusted R-Squared 0.6047489205190303\n",
      "\n",
      "Test :  mutual info reg - k: 6\n",
      "R-Squared 0.6013514481941856\n",
      "Adjusted R-Squared 0.6012129484078026\n",
      "\n",
      "Test :  mutual info reg - k: 7\n",
      "R-Squared 0.6158679740594877\n",
      "Adjusted R-Squared 0.615712265901425\n",
      "\n",
      "Test :  mutual info reg - k: 8\n",
      "R-Squared 0.6202710186016087\n",
      "Adjusted R-Squared 0.6200950959787694\n",
      "\n",
      "Test :  mutual info reg - k: 9\n",
      "R-Squared 0.6242102507837549\n",
      "Adjusted R-Squared 0.6240143795992442\n",
      "\n",
      "Test :  mutual info reg - k: 10\n",
      "R-Squared 0.6254385641944135\n",
      "Adjusted R-Squared 0.6252216283460377\n",
      "\n",
      "Test :  mutual info reg - k: 11\n",
      "R-Squared 0.6534647771555707\n",
      "Adjusted R-Squared 0.6532439901615777\n",
      "\n",
      "Test :  mutual info reg - k: 12\n",
      "R-Squared 0.648406342655747\n",
      "Adjusted R-Squared 0.6481823327958695\n",
      "\n",
      "Test :  mutual info reg - k: 13\n",
      "R-Squared 0.6542175722311905\n",
      "Adjusted R-Squared 0.6539772229996552\n",
      "\n",
      "Test :  mutual info reg - k: 14\n",
      "R-Squared 0.6768833430027312\n",
      "Adjusted R-Squared 0.6766400181726921\n",
      "\n",
      "Test :  mutual info reg - k: 15\n",
      "R-Squared 0.6762738355389359\n",
      "Adjusted R-Squared 0.6760112839051475\n",
      "\n",
      "Test :  mutual info reg - k: 16\n",
      "R-Squared 0.6944373023121119\n",
      "Adjusted R-Squared 0.6941717649466453\n",
      "\n",
      "Test :  mutual info reg - k: 17\n",
      "R-Squared 0.6957694186514471\n",
      "Adjusted R-Squared 0.6954873972550637\n",
      "\n"
     ]
    },
    {
     "data": {
      "image/png": "[encoded data removed]",
      "text/plain": [
       "<Figure size 576x576 with 1 Axes>"
      ]
     },
     "metadata": {
      "needs_background": "light"
     },
     "output_type": "display_data"
    }
   ],
   "source": [
    "get_model_scores(model_params)"
   ]
  },
  {
   "cell_type": "code",
   "execution_count": null,
   "metadata": {},
   "outputs": [],
   "source": []
  },
  {
   "cell_type": "code",
   "execution_count": null,
   "metadata": {},
   "outputs": [],
   "source": []
  },
  {
   "cell_type": "code",
   "execution_count": null,
   "metadata": {},
   "outputs": [],
   "source": []
  },
  {
   "cell_type": "code",
   "execution_count": null,
   "metadata": {},
   "outputs": [],
   "source": []
  },
  {
   "cell_type": "code",
   "execution_count": null,
   "metadata": {},
   "outputs": [],
   "source": []
  },
  {
   "cell_type": "code",
   "execution_count": null,
   "metadata": {},
   "outputs": [],
   "source": []
  },
  {
   "cell_type": "code",
   "execution_count": null,
   "metadata": {},
   "outputs": [],
   "source": []
  },
  {
   "cell_type": "code",
   "execution_count": null,
   "metadata": {},
   "outputs": [],
   "source": []
  },
  {
   "cell_type": "code",
   "execution_count": null,
   "metadata": {},
   "outputs": [],
   "source": []
  },
  {
   "cell_type": "code",
   "execution_count": null,
   "metadata": {},
   "outputs": [],
   "source": []
  },
  {
   "cell_type": "code",
   "execution_count": null,
   "metadata": {},
   "outputs": [],
   "source": []
  },
  {
   "cell_type": "code",
   "execution_count": null,
   "metadata": {},
   "outputs": [],
   "source": []
  },
  {
   "cell_type": "code",
   "execution_count": null,
   "metadata": {},
   "outputs": [],
   "source": []
  },
  {
   "cell_type": "code",
   "execution_count": null,
   "metadata": {},
   "outputs": [],
   "source": []
  },
  {
   "cell_type": "code",
   "execution_count": null,
   "metadata": {},
   "outputs": [],
   "source": []
  }
 ],
 "metadata": {
  "kernelspec": {
   "display_name": "Python 3",
   "language": "python",
   "name": "python3"
  },
  "language_info": {
   "codemirror_mode": {
    "name": "ipython",
    "version": 3
   },
   "file_extension": ".py",
   "mimetype": "text/x-python",
   "name": "python",
   "nbconvert_exporter": "python",
   "pygments_lexer": "ipython3",
   "version": "3.8.5"
  }
 },
 "nbformat": 4,
 "nbformat_minor": 4
}
